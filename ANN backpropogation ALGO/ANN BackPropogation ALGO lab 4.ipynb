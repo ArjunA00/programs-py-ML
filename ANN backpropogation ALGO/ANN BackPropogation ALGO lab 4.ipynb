{
 "cells": [
  {
   "cell_type": "code",
   "execution_count": null,
   "metadata": {},
   "outputs": [],
   "source": []
  },
  {
   "cell_type": "code",
   "execution_count": 2,
   "metadata": {},
   "outputs": [
    {
     "name": "stdout",
     "output_type": "stream",
     "text": [
      "Input:\n",
      "[[0.66666667 1.        ]\n",
      " [0.33333333 0.55555556]\n",
      " [1.         0.66666667]]\n",
      "Actual Output:\n",
      "[[0.92]\n",
      " [0.86]\n",
      " [0.89]]\n",
      "Predicted Output:\n",
      " [[0.89798114]\n",
      " [0.87476676]\n",
      " [0.89340457]]\n"
     ]
    }
   ],
   "source": [
    "import numpy as np\n",
    "x = np.array(([2,9],[1,5],[3,6]),dtype=float)\n",
    "y = np.array(([92],[86],[89]),dtype=float)\n",
    "x = x/np.amax(x,axis=0)\n",
    "y=y/100\n",
    "\n",
    "def sigmoid(x):\n",
    "    return 1/(1+np.exp(-x))\n",
    "def der_sigmoid(x):\n",
    "    return x*(1-x)\n",
    "\n",
    "e = 5000\n",
    "learn_rate = 0.1\n",
    "inLayer_neurons = 2\n",
    "hiddenLayer_neurons = 3\n",
    "out_neurons = 1\n",
    "\n",
    "wh = np.random.uniform(size=(inLayer_neurons,hiddenLayer_neurons))\n",
    "bh = np.random.uniform(size=(1,hiddenLayer_neurons))\n",
    "wo = np.random.uniform(size=(hiddenLayer_neurons,out_neurons))\n",
    "bo = np.random.uniform(size=(1,out_neurons))\n",
    "\n",
    "for i in range(e):\n",
    "    net_h = np.dot(x,wh)+bh\n",
    "    sigma = sigmoid(net_h)\n",
    "    net_o = np.dot(sigma,wo)+bo\n",
    "    output =sigmoid(net_o)\n",
    "    deltaK = der_sigmoid(output)*(y-output)\n",
    "    deltaH = der_sigmoid(sigma)* np.dot(wo.T,deltaK)\n",
    "    wo =wo + np.dot(sigma,deltaK) * learn_rate\n",
    "    wh = wh+ np.dot(x.T,deltaH) * learn_rate\n",
    "\n",
    "\n",
    "print(\"Input:\\n\" +str(x))\n",
    "print(\"Actual Output:\\n\" +str(y))\n",
    "print(\"Predicted Output:\\n\" ,output)"
   ]
  },
  {
   "cell_type": "code",
   "execution_count": null,
   "metadata": {},
   "outputs": [],
   "source": [
    "\n"
   ]
  },
  {
   "cell_type": "code",
   "execution_count": null,
   "metadata": {},
   "outputs": [],
   "source": []
  },
  {
   "cell_type": "code",
   "execution_count": null,
   "metadata": {},
   "outputs": [],
   "source": []
  },
  {
   "cell_type": "code",
   "execution_count": null,
   "metadata": {},
   "outputs": [],
   "source": []
  },
  {
   "cell_type": "code",
   "execution_count": null,
   "metadata": {},
   "outputs": [],
   "source": []
  },
  {
   "cell_type": "code",
   "execution_count": null,
   "metadata": {},
   "outputs": [],
   "source": []
  }
 ],
 "metadata": {
  "kernelspec": {
   "display_name": "Python 3",
   "language": "python",
   "name": "python3"
  },
  "language_info": {
   "codemirror_mode": {
    "name": "ipython",
    "version": 3
   },
   "file_extension": ".py",
   "mimetype": "text/x-python",
   "name": "python",
   "nbconvert_exporter": "python",
   "pygments_lexer": "ipython3",
   "version": "3.7.1"
  }
 },
 "nbformat": 4,
 "nbformat_minor": 4
}
